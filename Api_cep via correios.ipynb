{
 "cells": [
  {
   "cell_type": "code",
   "execution_count": 1,
   "metadata": {},
   "outputs": [],
   "source": [
    "import requests, json\n",
    "import pandas as pd\n"
   ]
  },
  {
   "cell_type": "code",
   "execution_count": 2,
   "metadata": {},
   "outputs": [],
   "source": [
    "api_cep = pd.read_excel ('API_CEP.xlsx')"
   ]
  },
  {
   "cell_type": "code",
   "execution_count": 3,
   "metadata": {},
   "outputs": [
    {
     "name": "stdout",
     "output_type": "stream",
     "text": [
      "01226-001\n",
      "07600-000\n",
      "02377-000\n",
      "02377-080\n"
     ]
    }
   ],
   "source": [
    "\n",
    "for i, planilha in enumerate(api_cep['CEP']):\n",
    "    cep = api_cep.loc[i, 'CEP']\n",
    "    link = f'https://viacep.com.br/ws/{cep}/json/'\n",
    "    requisição = requests.get(link)\n",
    "    try:\n",
    "        dic_requisição= requisição.json()\n",
    "    except KeyError:\n",
    "        pass \n",
    "        logradouro = dic_requisição['logradouro']\n",
    "        api_cep.loc[i,'logradouro'] = logradouro\n",
    "        bairro = dic_requisição['bairro']\n",
    "        api_cep.loc[i,'bairro'] = bairro\n",
    "        localidade = dic_requisição['localidade']\n",
    "        api_cep.loc[i,'localidade'] = localidade\n",
    "        uf = dic_requisição['uf']\n",
    "        api_cep.loc[i,'uf'] = uf\n",
    "    try:\n",
    "        logradouro = dic_requisição['logradouro']\n",
    "        api_cep.loc[i,'logradouro'] = logradouro\n",
    "        bairro = dic_requisição['bairro']\n",
    "        api_cep.loc[i,'bairro'] = bairro\n",
    "        localidade = dic_requisição['localidade']\n",
    "        api_cep.loc[i,'localidade'] = localidade\n",
    "        uf = dic_requisição['uf']\n",
    "        api_cep.loc[i,'uf'] = uf\n",
    "    except KeyError:\n",
    "        pass\n",
    "    print(cep)\n",
    "\n",
    "\n",
    "    "
   ]
  },
  {
   "cell_type": "code",
   "execution_count": 4,
   "metadata": {},
   "outputs": [],
   "source": [
    "api_cep.to_excel('API_CEP.xlsx')\n"
   ]
  }
 ],
 "metadata": {
  "kernelspec": {
   "display_name": "base",
   "language": "python",
   "name": "python3"
  },
  "language_info": {
   "codemirror_mode": {
    "name": "ipython",
    "version": 3
   },
   "file_extension": ".py",
   "mimetype": "text/x-python",
   "name": "python",
   "nbconvert_exporter": "python",
   "pygments_lexer": "ipython3",
   "version": "3.11.5"
  },
  "orig_nbformat": 4,
  "vscode": {
   "interpreter": {
    "hash": "1c72a097f30d6d3641b42a0459290e8836756fb8f87dcb84ba3a2924eed02fac"
   }
  }
 },
 "nbformat": 4,
 "nbformat_minor": 2
}
